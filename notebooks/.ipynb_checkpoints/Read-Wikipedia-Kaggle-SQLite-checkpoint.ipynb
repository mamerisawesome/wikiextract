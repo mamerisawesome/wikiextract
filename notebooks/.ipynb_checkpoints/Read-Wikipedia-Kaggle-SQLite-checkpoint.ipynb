{
 "cells": [
  {
   "cell_type": "markdown",
   "metadata": {},
   "source": [
    "# Wikipedia Kaggle Data Peak"
   ]
  },
  {
   "cell_type": "markdown",
   "metadata": {},
   "source": [
    "Read dataset given by Kaggle of Wikipedia articles."
   ]
  },
  {
   "cell_type": "code",
   "execution_count": null,
   "metadata": {},
   "outputs": [],
   "source": [
    "import sqlite3\n",
    "conn = sqlite3.connect('../data/wiki-kaggle-17_18.db')\n",
    "crsr = conn.cursor()"
   ]
  },
  {
   "cell_type": "markdown",
   "metadata": {},
   "source": [
    "Peak into the tables."
   ]
  },
  {
   "cell_type": "code",
   "execution_count": null,
   "metadata": {},
   "outputs": [],
   "source": [
    "import pandas as pd\n",
    "query = \"\"\"\n",
    "        SELECT \n",
    "            ARTICLE_ID,\n",
    "            REPLACE(GROUP_CONCAT(SECTION_TEXT, ' '), '\\n', ' ') AS CONTENT \n",
    "        FROM ARTICLES \n",
    "        GROUP BY ARTICLE_ID\n",
    "        LIMIT 1000000\n",
    "        \"\"\"\n",
    "\n",
    "for chunk in pd.read_sql_query(query, conn, chunksize=1000000):\n",
    "    df = chunk\n",
    "    break"
   ]
  },
  {
   "cell_type": "code",
   "execution_count": null,
   "metadata": {
    "scrolled": false
   },
   "outputs": [],
   "source": [
    "import re\n",
    "clean_data = []\n",
    "for idx, row in df.iterrows():\n",
    "    clean_text = re.sub(\"[^a-zA-Z]+\", \" \", row[\"CONTENT\"])\n",
    "    clean_text = clean_text.lower()\n",
    "#     split_text = clean_text.split(\" \")\n",
    "#     split_text = [t for t in split_text if t]\n",
    "#     clean_data += [{\n",
    "#         \"ARTICLE_ID\": row[\"ARTICLE_ID\"],\n",
    "#         \"CONTENT\": split_text\n",
    "#     }]\n",
    "      clean_data += []"
   ]
  },
  {
   "cell_type": "code",
   "execution_count": null,
   "metadata": {},
   "outputs": [],
   "source": [
    "clean_data"
   ]
  },
  {
   "cell_type": "code",
   "execution_count": null,
   "metadata": {},
   "outputs": [],
   "source": [
    "corpus = []\n",
    "for datum in clean_data:\n",
    "    article_id = datum['ARTICLE_ID']\n",
    "    content = datum['CONTENT']\n",
    "    corpus.append('')\n",
    "    for word in content:\n",
    "        if len(word) > 3:\n",
    "            corpus[article_id] = corpus[article_id] + ' ' + word\n",
    "\n",
    "corpus_df = pd.DataFrame(corpus)\n",
    "corpus"
   ]
  },
  {
   "cell_type": "code",
   "execution_count": null,
   "metadata": {},
   "outputs": [],
   "source": [
    "clean_df = pd.DataFrame(clean_data)"
   ]
  },
  {
   "cell_type": "code",
   "execution_count": null,
   "metadata": {
    "scrolled": true
   },
   "outputs": [],
   "source": [
    "clean_df"
   ]
  },
  {
   "cell_type": "code",
   "execution_count": null,
   "metadata": {},
   "outputs": [],
   "source": [
    "bag_data = []\n",
    "vocab = {}\n",
    "for idx, row in clean_df.iterrows():\n",
    "    bag = {}\n",
    "    for word in row[\"CONTENT\"]:\n",
    "        if len(word) > 3:\n",
    "            if word in bag: bag[word] += 1\n",
    "            else: bag[word] = 1\n",
    "            if word in vocab: vocab[word] += 1\n",
    "            else: vocab[word] = 1\n",
    "\n",
    "    bag_data += [{\n",
    "        \"id\": row[\"ARTICLE_ID\"],\n",
    "        \"bag\": bag\n",
    "    }]"
   ]
  },
  {
   "cell_type": "code",
   "execution_count": null,
   "metadata": {},
   "outputs": [],
   "source": [
    "vocab"
   ]
  },
  {
   "cell_type": "code",
   "execution_count": null,
   "metadata": {
    "scrolled": true
   },
   "outputs": [],
   "source": [
    "bag_df = pd.DataFrame(bag_data)"
   ]
  },
  {
   "cell_type": "code",
   "execution_count": null,
   "metadata": {
    "scrolled": true
   },
   "outputs": [],
   "source": [
    "bag_df"
   ]
  },
  {
   "cell_type": "code",
   "execution_count": null,
   "metadata": {},
   "outputs": [],
   "source": [
    "tfidf_df = {}\n",
    "\n",
    "# compute idf\n",
    "import math\n",
    "idf = {}\n",
    "for word in vocab.keys():\n",
    "     idf[word] = math.log(len(bag_df)/vocab[word])\n",
    "\n",
    "for idx, row in bag_df.iterrows():\n",
    "    # compute tf\n",
    "    total_words = 0\n",
    "    for word in row[\"bag\"].keys():\n",
    "        total_words += row[\"bag\"][word]\n",
    "    \n",
    "    tfidf_df[row['id']] = {} \n",
    "    for word in row[\"bag\"].keys():\n",
    "        tf_score = row[\"bag\"][word] / total_words\n",
    "        tfidf_df[row['id']][word] = tf_score * idf[word]"
   ]
  },
  {
   "cell_type": "code",
   "execution_count": null,
   "metadata": {},
   "outputs": [],
   "source": [
    "tfidf_df = pd.DataFrame(tfidf_df)\n",
    "tfidf_df"
   ]
  },
  {
   "cell_type": "code",
   "execution_count": null,
   "metadata": {},
   "outputs": [],
   "source": [
    "import re\n",
    "data = df.CONTENT.values.tolist()\n",
    "for s in data:\n",
    "    clean = [re.sub(\"[^a-zA-Z]+\", \" \", s) for s in data]"
   ]
  },
  {
   "cell_type": "code",
   "execution_count": null,
   "metadata": {},
   "outputs": [],
   "source": [
    "from sklearn.feature_extraction.text import CountVectorizer\n",
    "from sklearn.decomposition import LatentDirichletAllocation\n",
    "import pandas as pd\n",
    "import numpy as np\n",
    "import gensim\n",
    "import nltk\n",
    "%pylab\n",
    "%matplotlib inline"
   ]
  },
  {
   "cell_type": "code",
   "execution_count": null,
   "metadata": {},
   "outputs": [],
   "source": [
    "from sklearn.feature_extraction.stop_words import ENGLISH_STOP_WORDS"
   ]
  },
  {
   "cell_type": "code",
   "execution_count": null,
   "metadata": {},
   "outputs": [],
   "source": [
    "vect = CountVectorizer(ngram_range=(1,1), stop_words=\"english\")"
   ]
  },
  {
   "cell_type": "code",
   "execution_count": null,
   "metadata": {},
   "outputs": [],
   "source": [
    "from sklearn.feature_extraction.text import TfidfVectorizer"
   ]
  },
  {
   "cell_type": "code",
   "execution_count": null,
   "metadata": {},
   "outputs": [],
   "source": [
    "tfidf_vect = TfidfVectorizer(ngram_range=(1,1), stop_words=\"english\")"
   ]
  },
  {
   "cell_type": "code",
   "execution_count": null,
   "metadata": {},
   "outputs": [],
   "source": [
    "cnt = vect.fit_transform(corpus)\n",
    "cnt_feature_names = vect.get_feature_names()"
   ]
  },
  {
   "cell_type": "code",
   "execution_count": null,
   "metadata": {},
   "outputs": [],
   "source": [
    "tfidf = tfidf_vect.fit_transform(corpus)\n",
    "tfidf_feature_names = tfidf_vect.get_feature_names()"
   ]
  },
  {
   "cell_type": "code",
   "execution_count": null,
   "metadata": {
    "scrolled": false
   },
   "outputs": [],
   "source": [
    "from sklearn.decomposition import NMF, LatentDirichletAllocation\n",
    "\n",
    "no_topics = 20\n",
    "\n",
    "# Run NMF\n",
    "nmf = NMF(n_components=no_topics, random_state=1, alpha=.1, l1_ratio=.5, init='nndsvd').fit(tfidf)\n",
    "\n",
    "# Run LDA\n",
    "lda = LatentDirichletAllocation(n_topics=no_topics, max_iter=5, learning_method='online', learning_offset=50.,random_state=0).fit(cnt)"
   ]
  },
  {
   "cell_type": "code",
   "execution_count": null,
   "metadata": {},
   "outputs": [],
   "source": [
    "def display_topics(model, feature_names, no_top_words):\n",
    "    for topic_idx, topic in enumerate(model.components_):\n",
    "        print(\"Topic \" + str(topic_idx) + \":\")\n",
    "        print(\" \".join([feature_names[i]\n",
    "                        for i in topic.argsort()[:-no_top_words - 1:-1]]))\n",
    "\n",
    "no_top_words = 10\n",
    "display_topics(nmf, tfidf_feature_names, no_top_words)\n",
    "display_topics(lda, cnt_feature_names, no_top_words)"
   ]
  },
  {
   "cell_type": "code",
   "execution_count": null,
   "metadata": {},
   "outputs": [],
   "source": []
  }
 ],
 "metadata": {
  "kernelspec": {
   "display_name": "Python 3",
   "language": "python",
   "name": "python3"
  },
  "language_info": {
   "codemirror_mode": {
    "name": "ipython",
    "version": 3
   },
   "file_extension": ".py",
   "mimetype": "text/x-python",
   "name": "python",
   "nbconvert_exporter": "python",
   "pygments_lexer": "ipython3",
   "version": "3.6.8"
  }
 },
 "nbformat": 4,
 "nbformat_minor": 2
}
