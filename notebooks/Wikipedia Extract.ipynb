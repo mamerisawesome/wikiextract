{
 "cells": [
  {
   "cell_type": "markdown",
   "metadata": {},
   "source": [
    "# Extract Wikipedia Content\n",
    "The idea of extracting Wikipedia contents started to prove LDA with TF-IDF; to be able to create a model that can cluster contents from Wikipedia. The problem now is knowing what data to extract from Wikipedia. The best we could come up of as of this moment is extracting the following from topics:\n",
    "1. Title\n",
    "2. Content\n",
    "3. Author\n",
    "4. Date of publish"
   ]
  },
  {
   "cell_type": "markdown",
   "metadata": {},
   "source": [
    "For this extraction problem, we will be using the *wikipedia* module. I've pre-extracted categories under the Science keyword from this [page](https://en.wikipedia.org/wiki/Portal:Science/Categories). With a little bit of JavaScript in the console, we get this data:"
   ]
  },
  {
   "cell_type": "code",
   "execution_count": 1,
   "metadata": {},
   "outputs": [],
   "source": [
    "science_categories = [\"Astrometry\",\"Cosmology\",\"Extragalactic astronomy\",\"Galactic astronomy\",\"Planetary science\",\"Stellar astronomy\",\"Anatomy\",\"Astrobiology\",\"Biochemistry\",\"Bioengineering\",\"Bioethics\",\"Biogeography\",\"Bioinformatics\",\"Biophysics\",\"Biopsychology\",\"Biotechnology\",\"Botany\",\"Cell biology\",\"Cryobiology\",\"Developmental biology\",\"Ecology\",\"Ethnobiology\",\"Evolutionary biology\",\"Forestry\",\"Genetics\",\"Gerontology\",\"Immunology\",\"Limnology\",\"Marine biology\",\"Mathematical and theoretical biology\",\"Metabolism\",\"Microbiology\",\"Molecular biology\",\"Neuroscience\",\"Paleontology\",\"Parasitology\",\"Pharmacology\",\"Physiology\",\"Radiobiology\",\"Soil biology\",\"Biostatistics\",\"Theoretical biology\",\"Toxicology\",\"Zoology\",\"Acid–base chemistry\",\"Analytical chemistry\",\"Astrochemistry\",\"Biochemistry\",\"Colloidal chemistry\",\"Crystallography\",\"Chemical engineering\",\"Environmental chemistry\",\"Food science\",\"Geochemistry\",\"Green chemistry\",\"Inorganic chemistry\",\"Materials science\",\"Medicinal chemistry\",\"Metallurgy\",\"Molecular physics\",\"Nuclear chemistry\",\"Organic chemistry\",\"Organometallic chemistry\",\"Photochemistry\",\"Physical chemistry\",\"Radiochemistry\",\"Solid-state chemistry\",\"Stereochemistry\",\"Supramolecular chemistry\",\"Surface chemistry\",\"Theoretical chemistry\",\"Atmospheric sciences\",\"Ecology\",\"Environmental science\",\"Geodesy\",\"Geography\",\"Geology\",\"Geomorphology\",\"Geophysics\",\"Glaciology\",\"Hydrology\",\"Limnology\",\"Oceanography\",\"Paleoclimatology\",\"Palynology\",\"Physical geography\",\"Soil science\",\"Space science\",\"Volcanology\",\"Applied and interdisciplinary physics\",\"Atomic\",\"Computational physics\",\"Condensed matter physics\",\"Experimental physics\",\"Mechanics\",\"Particle physics\",\"Plasma physics\",\"Quantum mechanics\",\"Solid mechanics\",\"Theoretical physics\",\"Thermodynamics\",\"Anthropology\",\"Archaeology\",\"Communication\",\"Economics\",\"Ethnology\",\"Geography\",\"Linguistics\",\" Political science\",\"Semiotics\",\"Sociology\",\"Ethology\",\"Psychology\",\"Social psychology\",\"Sociobiology\",\"Acoustics\",\"Agriculture\",\"Applied mathematics\",\"Architecture\",\"Computer science\",\"Education\",\"Engineering\",\"Ergonomics\",\"Forensics\",\"Industrial processes\",\"Information science\",\"Library science\",\"Measurement\",\"Metrology\",\"Military science\",\"Optics\",\"Sports science\",\"Bioengineering\",\"Dentistry\",\"Epidemiology\",\"Healthcare\",\"Medicine\",\"Nursing\",\"Pharmacy\",\"Social work\",\"Veterinary medicine\",\"History of Science\",\"Mathematics\",\"Philosophy of science\",\"Scientific method\",\"Statistics\",\"Technology\",\"Applied and interdisciplinary physics\",\"Artificial intelligence\",\"Bioinformatics\",\"Biomedical engineering\",\"Cognitive science\",\"Computational linguistics\",\"Cultural studies\",\"Cybernetics\",\"Ethnic studies\",\"Evolutionary psychology\",\"Health\",\"Human sciences\",\"Library science\",\"Logic\",\"Mathematical physics\",\"Scientific modeling\",\"Museology\",\"Neural engineering\",\"Neuroscience\",\"Political economy\",\"Science and technology studies\",\"Science studies\",\"Semiotics\",\"Systems theory\",\"Systems science\",\"Transdisciplinarity\",\"Urban planning\"]\n",
    "\n",
    "# TODO expand categories\n",
    "topics = [] + science_categories"
   ]
  },
  {
   "cell_type": "markdown",
   "metadata": {},
   "source": [
    "We go through per topics and search through those topics. Which would broaden the topic even wider. After that, we can then get those pages and their contents."
   ]
  },
  {
   "cell_type": "code",
   "execution_count": 2,
   "metadata": {},
   "outputs": [
    {
     "name": "stdout",
     "output_type": "stream",
     "text": [
      "1740\n"
     ]
    }
   ],
   "source": [
    "import wikipedia\n",
    "queries = []\n",
    "for topic in topics:\n",
    "    search_res = wikipedia.search(topic)\n",
    "    if type(search_res) is list:\n",
    "        queries += search_res\n",
    "        \n",
    "print(len(queries))"
   ]
  },
  {
   "cell_type": "markdown",
   "metadata": {},
   "source": [
    "Define get page worker."
   ]
  },
  {
   "cell_type": "code",
   "execution_count": 12,
   "metadata": {},
   "outputs": [],
   "source": [
    "def get_page(data):\n",
    "    \"\"\"Get all pages\"\"\"\n",
    "    try:\n",
    "        res = wikipedia.page(data)\n",
    "    except (wikipedia.exceptions.PageError, wikipedia.exceptions.DisambiguationError):\n",
    "        return None\n",
    "\n",
    "    return res"
   ]
  },
  {
   "cell_type": "markdown",
   "metadata": {},
   "source": [
    "Implement multiprocessing for extraction."
   ]
  },
  {
   "cell_type": "code",
   "execution_count": 13,
   "metadata": {},
   "outputs": [],
   "source": [
    "import multiprocessing as mp\n",
    "import warnings\n",
    "warnings.filterwarnings(\"ignore\", category=UserWarning, module='wikipedia')\n",
    "\n",
    "CORES = mp.cpu_count()\n",
    "THREADS = 2\n",
    "WORKERS = CORES * THREADS\n",
    "acc = []\n",
    "\n",
    "with mp.Pool(WORKERS) as p:\n",
    "    res = p.map(get_page, queries)\n",
    "    acc += res\n",
    "# jobs = []\n",
    "# acc = []\n",
    "# start = 0\n",
    "# for i in range(WORKERS):\n",
    "#     end = start + (len(queries) / WORKERS-1)\n",
    "#     end = round(end)\n",
    "#     if CORE - 1 == i:\n",
    "#         end = len(queries)\n",
    "\n",
    "#     sub_cluster = queries[start:end]\n",
    "#     p = mp.Process(target=get_page, args=(sub_cluster, acc,))\n",
    "#     start = end\n",
    "#     jobs.append(p)\n",
    "#     p.start()"
   ]
  },
  {
   "cell_type": "markdown",
   "metadata": {},
   "source": [
    "Run the jobs."
   ]
  },
  {
   "cell_type": "code",
   "execution_count": 2,
   "metadata": {},
   "outputs": [
    {
     "ename": "NameError",
     "evalue": "name 'acc' is not defined",
     "output_type": "error",
     "traceback": [
      "\u001b[0;31m---------------------------------------------------------------------------\u001b[0m",
      "\u001b[0;31mNameError\u001b[0m                                 Traceback (most recent call last)",
      "\u001b[0;32m<ipython-input-2-715686fb96de>\u001b[0m in \u001b[0;36m<module>\u001b[0;34m\u001b[0m\n\u001b[1;32m      1\u001b[0m \u001b[0mdata\u001b[0m \u001b[0;34m=\u001b[0m \u001b[0;34m[\u001b[0m\u001b[0;34m]\u001b[0m\u001b[0;34m\u001b[0m\u001b[0;34m\u001b[0m\u001b[0m\n\u001b[0;32m----> 2\u001b[0;31m \u001b[0;32mfor\u001b[0m \u001b[0mpage\u001b[0m \u001b[0;32min\u001b[0m \u001b[0macc\u001b[0m\u001b[0;34m:\u001b[0m\u001b[0;34m\u001b[0m\u001b[0;34m\u001b[0m\u001b[0m\n\u001b[0m\u001b[1;32m      3\u001b[0m     datum = { \"title\": page.title,\n\u001b[1;32m      4\u001b[0m               \u001b[0;34m\"content\"\u001b[0m\u001b[0;34m:\u001b[0m \u001b[0mpage\u001b[0m\u001b[0;34m.\u001b[0m\u001b[0mcontent\u001b[0m\u001b[0;34m,\u001b[0m\u001b[0;34m\u001b[0m\u001b[0;34m\u001b[0m\u001b[0m\n\u001b[1;32m      5\u001b[0m               \"\": \"\" }\n",
      "\u001b[0;31mNameError\u001b[0m: name 'acc' is not defined"
     ]
    }
   ],
   "source": [
    "data = []\n",
    "for page in acc:\n",
    "    datum = { \"title\": page.title,\n",
    "              \"content\": page.content,\n",
    "              \"\": \"\" }"
   ]
  },
  {
   "cell_type": "code",
   "execution_count": null,
   "metadata": {},
   "outputs": [],
   "source": [
    "for i in range(10**10):\n",
    "    x = i"
   ]
  }
 ],
 "metadata": {
  "kernelspec": {
   "display_name": "wikipedia_extract",
   "language": "python",
   "name": "wikipedia_extract"
  },
  "language_info": {
   "codemirror_mode": {
    "name": "ipython",
    "version": 3
   },
   "file_extension": ".py",
   "mimetype": "text/x-python",
   "name": "python",
   "nbconvert_exporter": "python",
   "pygments_lexer": "ipython3",
   "version": "3.6.7"
  }
 },
 "nbformat": 4,
 "nbformat_minor": 2
}
