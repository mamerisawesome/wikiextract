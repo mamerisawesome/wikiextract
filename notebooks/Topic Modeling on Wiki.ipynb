{
 "cells": [
  {
   "cell_type": "markdown",
   "metadata": {},
   "source": [
    "# Wikipedia Kaggle Data Peak"
   ]
  },
  {
   "cell_type": "code",
   "execution_count": 701,
   "metadata": {},
   "outputs": [
    {
     "name": "stdout",
     "output_type": "stream",
     "text": [
      "Using matplotlib backend: TkAgg\n",
      "Populating the interactive namespace from numpy and matplotlib\n"
     ]
    }
   ],
   "source": [
    "import pandas as pd\n",
    "import numpy as np\n",
    "import gensim\n",
    "import spacy\n",
    "import nltk\n",
    "import json\n",
    "import re\n",
    "\n",
    "from sklearn.feature_extraction.text import CountVectorizer, TfidfVectorizer\n",
    "from sklearn.feature_extraction.text import ENGLISH_STOP_WORDS\n",
    "from sklearn.decomposition import NMF, LatentDirichletAllocation, TruncatedSVD\n",
    "from sklearn.model_selection import GridSearchCV\n",
    "from sklearn.cluster import KMeans\n",
    "from sklearn.metrics.pairwise import euclidean_distances\n",
    "\n",
    "import pyLDAvis as pyldavis\n",
    "import pyLDAvis.sklearn\n",
    "\n",
    "%pylab\n",
    "%matplotlib inline"
   ]
  },
  {
   "cell_type": "markdown",
   "metadata": {},
   "source": [
    "Read dataset given by Kaggle of Wikipedia articles."
   ]
  },
  {
   "cell_type": "code",
   "execution_count": 702,
   "metadata": {},
   "outputs": [],
   "source": [
    "import sqlite3\n",
    "conn = sqlite3.connect('../data/wiki-kaggle-17_18.db')\n",
    "crsr = conn.cursor()"
   ]
  },
  {
   "cell_type": "markdown",
   "metadata": {},
   "source": [
    "Peak into the tables."
   ]
  },
  {
   "cell_type": "code",
   "execution_count": 714,
   "metadata": {},
   "outputs": [],
   "source": [
    "query = \"\"\"\n",
    "        SELECT \n",
    "            ARTICLE_ID,\n",
    "            REPLACE(GROUP_CONCAT(SECTION_TEXT, ' '), '\\n', ' ') AS CONTENT \n",
    "        FROM ARTICLES \n",
    "        GROUP BY ARTICLE_ID\n",
    "        \"\"\"\n",
    "\n",
    "for chunk in pd.read_sql_query(query, conn, chunksize=50000):\n",
    "    df = chunk\n",
    "    break"
   ]
  },
  {
   "cell_type": "code",
   "execution_count": null,
   "metadata": {
    "scrolled": false
   },
   "outputs": [],
   "source": [
    "raw_data = []\n",
    "clean_data = []\n",
    "\n",
    "def valid(txt):\n",
    "    if txt is None: return\n",
    "    if txt in ENGLISH_STOP_WORDS: return\n",
    "    if len(txt) <= 3: return\n",
    "    return True\n",
    "\n",
    "for idx, row in df.iterrows():\n",
    "    raw_data += [row[\"CONTENT\"]]\n",
    "    clean_text = re.sub(\"[^a-zA-Z]+\", \" \", row[\"CONTENT\"])\n",
    "    clean_text = clean_text.lower()\n",
    "    split_text = [t for t in clean_text.split(\" \") if valid(t)]\n",
    "    clean_data += [\" \".join(split_text)]"
   ]
  },
  {
   "cell_type": "code",
   "execution_count": null,
   "metadata": {
    "scrolled": true
   },
   "outputs": [],
   "source": [
    "pd.DataFrame(clean_data)"
   ]
  },
  {
   "cell_type": "code",
   "execution_count": null,
   "metadata": {},
   "outputs": [],
   "source": [
    "word_ids = []\n",
    "vocab = {}\n",
    "for row in clean_data:\n",
    "    bag = {}\n",
    "    row = row.split(\" \")\n",
    "    row = [word for word in row if word]\n",
    "    for word in row:\n",
    "        if word in vocab:vocab[word] += 1\n",
    "        else: \n",
    "            word_ids += [word]\n",
    "            vocab[word] = 1\n",
    "    \n",
    "freq_bag = []\n",
    "for word in vocab.keys():\n",
    "    freq_bag += [{ \"text\": word, \"count\": vocab[word] }]"
   ]
  },
  {
   "cell_type": "code",
   "execution_count": null,
   "metadata": {},
   "outputs": [],
   "source": [
    "freq_df = pd.DataFrame(freq_bag)\n",
    "sorted_freq = freq_df.sort_values(\"count\")\n",
    "counts = []\n",
    "labels = []\n",
    "for cnt in sorted_freq.values:\n",
    "    counts += [cnt[0]]\n",
    "    labels += [\"{}, {}\".format(cnt[1], cnt[0])]"
   ]
  },
  {
   "cell_type": "code",
   "execution_count": null,
   "metadata": {
    "scrolled": true
   },
   "outputs": [],
   "source": [
    "plt.pie(counts[-20:], labels=labels[-20:])\n",
    "plt.show()"
   ]
  },
  {
   "cell_type": "code",
   "execution_count": null,
   "metadata": {},
   "outputs": [],
   "source": [
    "no_topics = 20\n",
    "no_top_words = 10"
   ]
  },
  {
   "cell_type": "code",
   "execution_count": null,
   "metadata": {},
   "outputs": [],
   "source": [
    "def display_topics(model, feature_names, no_top_words):\n",
    "    topics = []\n",
    "    for topic_idx, topic in enumerate(model.components_):\n",
    "        topic_label = \"Topic {}\".format(topic_idx)\n",
    "        words = [feature_names[i] for i in topic.argsort()[:-no_top_words - 1:-1]]\n",
    "        topics += [[*words]]\n",
    "    return topics"
   ]
  },
  {
   "cell_type": "code",
   "execution_count": null,
   "metadata": {},
   "outputs": [],
   "source": [
    "def eval_model(best=None, model=None, vect=None, use_simple=False):\n",
    "    print(\"= SUMMARY\", \"=\"*50, \"\\n\")\n",
    "    if best:\n",
    "        best_model = best.best_estimator_\n",
    "        print(\"Params:\\t{}\".format(best.best_params_))\n",
    "        print(\"Log Likelihood:\\t{}\".format(best.best_score_))\n",
    "        print(\"Perplexity:\\t{}\".format(best_model.perplexity(vect)))\n",
    "        return\n",
    "\n",
    "    data_dense = vect.todense()\n",
    "    print(\"Sparsicity:\\t{} %\".format(((data_dense > 0).sum()/data_dense.size)*100))\n",
    "    if not use_simple:\n",
    "        print(\"Log Likelihood:\\t{}\".format(model.score(vect)))\n",
    "        print(\"Perplexity:\\t{}\".format(model.perplexity(vect)))\n",
    "    print(json.dumps(model.get_params(), indent=2))"
   ]
  },
  {
   "cell_type": "code",
   "execution_count": null,
   "metadata": {},
   "outputs": [],
   "source": [
    "vect = CountVectorizer(ngram_range=(1,1), stop_words=\"english\")\n",
    "cnt = vect.fit_transform(clean_data)\n",
    "cnt_feature_names = vect.get_feature_names()"
   ]
  },
  {
   "cell_type": "code",
   "execution_count": null,
   "metadata": {},
   "outputs": [],
   "source": [
    "lda = LatentDirichletAllocation(n_components=no_topics, max_iter=5, learning_method='online', learning_offset=50.,random_state=0)\n",
    "lda_model = lda.fit(cnt)"
   ]
  },
  {
   "cell_type": "code",
   "execution_count": null,
   "metadata": {},
   "outputs": [],
   "source": [
    "lda_topics = display_topics(lda_model, cnt_feature_names, no_top_words)\n",
    "pd.DataFrame(lda_topics)"
   ]
  },
  {
   "cell_type": "code",
   "execution_count": null,
   "metadata": {
    "scrolled": false
   },
   "outputs": [],
   "source": [
    "eval_model(lda_model, cnt)"
   ]
  },
  {
   "cell_type": "code",
   "execution_count": null,
   "metadata": {
    "scrolled": true
   },
   "outputs": [],
   "source": [
    "search_params = {\n",
    "    \"n_components\": range(10, 50, 5),\n",
    "    \"learning_decay\": [.5, .7, .9]\n",
    "}\n",
    "\n",
    "tunedlda = LatentDirichletAllocation()\n",
    "tunedlda_model = GridSearchCV(tunedlda, param_grid=search_params)\n",
    "tunedlda_model.fit(cnt)"
   ]
  },
  {
   "cell_type": "code",
   "execution_count": null,
   "metadata": {
    "scrolled": true
   },
   "outputs": [],
   "source": [
    "eval_model(best=tunedlda_model)"
   ]
  },
  {
   "cell_type": "code",
   "execution_count": null,
   "metadata": {},
   "outputs": [],
   "source": [
    "best_lda_model = tunedlda_model.best_estimator_"
   ]
  },
  {
   "cell_type": "code",
   "execution_count": null,
   "metadata": {},
   "outputs": [],
   "source": [
    "pyldavis.enable_notebook()"
   ]
  },
  {
   "cell_type": "code",
   "execution_count": null,
   "metadata": {
    "scrolled": true
   },
   "outputs": [],
   "source": [
    "panel = pyldavis.sklearn.prepare(best_lda_model, cnt, vect, mds=\"tsne\")"
   ]
  },
  {
   "cell_type": "code",
   "execution_count": null,
   "metadata": {},
   "outputs": [],
   "source": [
    "panel"
   ]
  },
  {
   "cell_type": "code",
   "execution_count": null,
   "metadata": {},
   "outputs": [],
   "source": [
    "clusters = KMeans(n_clusters=10, random_state=100)\n",
    "clusters = clusters.fit_predict(cnt)"
   ]
  },
  {
   "cell_type": "code",
   "execution_count": null,
   "metadata": {},
   "outputs": [],
   "source": [
    "svd_model = TruncatedSVD(n_components=2)\n",
    "lda_output_svd = svd_model.fit_transform(cnt)"
   ]
  },
  {
   "cell_type": "code",
   "execution_count": null,
   "metadata": {},
   "outputs": [],
   "source": [
    "x = lda_output_svd[:,0]\n",
    "y = lda_output_svd[:,1]"
   ]
  },
  {
   "cell_type": "code",
   "execution_count": null,
   "metadata": {},
   "outputs": [],
   "source": [
    "print(\"Weights: {}\".format(np.round(svd_model.components_, 2)))"
   ]
  },
  {
   "cell_type": "code",
   "execution_count": null,
   "metadata": {},
   "outputs": [],
   "source": [
    "print(\"% of Variance Explained: {}\".format(np.round(svd_model.explained_variance_ratio_, 2)))"
   ]
  },
  {
   "cell_type": "code",
   "execution_count": null,
   "metadata": {
    "scrolled": false
   },
   "outputs": [],
   "source": [
    "plt.figure(figsize=(12, 12))\n",
    "plt.scatter(x, y, c=clusters)\n",
    "plt.xlabel(\"Component 2\")\n",
    "plt.xlabel(\"Component 1\")\n",
    "plt.title(\"Segregation of Topic Clusters\")"
   ]
  },
  {
   "cell_type": "markdown",
   "metadata": {},
   "source": [
    "### Topic Prediction\n",
    "\n",
    "We will be using the famous _I have a dream speech_ as delivered by _Martin Luther King Jr._."
   ]
  },
  {
   "cell_type": "code",
   "execution_count": null,
   "metadata": {},
   "outputs": [],
   "source": [
    "nlp = spacy.load(\"en_core_web_sm\", disable=[\"parser\", \"ner\"])\n",
    "vectorizer = CountVectorizer(analyzer='word',       \n",
    "                             min_df=1,\n",
    "                             stop_words='english',\n",
    "                             lowercase=True,\n",
    "                             token_pattern='[a-zA-Z0-9]{3,}')\n",
    "\n",
    "def sent_to_words(sentences):\n",
    "    for sent in sentences:\n",
    "        yield(gensim.utils.simple_preprocess(str(sent), deacc=True))\n",
    "        \n",
    "def lemmatization(texts, allowed_postags=[\"NOUN\", \"ADJ\", \"VERB\", \"ADV\"]):\n",
    "    texts_out = []\n",
    "    for sent in texts:\n",
    "        doc = nlp(\" \". join(sent))\n",
    "        texts_out.append(\" \".join([token.lemma_ if token.lemma_ not in [\"-PRON-\"] else \"\" for token in doc if token.pos_ in allowed_postags]))\n",
    "    return texts_out\n",
    "\n",
    "def predict_topic(text, model=None, nlp=nlp):\n",
    "    if not model: return None, None\n",
    "    processed = list(sent_to_words(text))\n",
    "    lemmatized = lemmatization(processed, allowed_postags=[\"NOUN\", \"ADJ\", \"VERB\", \"ADV\"])\n",
    "    vectorizer.fit(lemmatized)\n",
    "    vectorized = vectorizer.transform(lemmatized)\n",
    "    df_topic_keywords = pd.DataFrame(model.components_)\n",
    "    vectorized._shape = (len(text), df_topic_keywords.shape[1])\n",
    "    topic_prob_scores = model.transform(vectorized)\n",
    "    topic = df_topic_keywords.iloc[np.argmax(topic_prob_scores), :].values.tolist()\n",
    "    return topic, topic_prob_scores\n",
    "\n",
    "def similar_documents(text, doc_topic_probs, documents, nlp=nlp, top_n=5, verbose=False, model=None):\n",
    "    topic, x = predict_topic(text, model)\n",
    "    dists = euclidean_distances(x.reshape(len(text), -1), doc_topic_probs)[0]\n",
    "    doc_ids = np.argsort(dists)[:top_n]\n",
    "    if verbose:\n",
    "        print(\"Topic key words: {}\".format(topic))\n",
    "        print(\"Topic prob scores of text: {}\".format(np.round(x, 1)))\n",
    "        print(\"Most similar doc's probs: {}\".format(np.round(doc_topic_probs[doc_ids], 1)))\n",
    "    return doc_ids, np.take(documents, doc_ids)\n",
    "\n",
    "def display_article(text):\n",
    "    clean_md = text.replace(' ===', '\\n\\n### ')\n",
    "    clean_md = clean_md.replace('=== ', '\\n\\n')\n",
    "    clean_md = clean_md.replace(\"'''\", '_')\n",
    "    return Markdown(clean_md)"
   ]
  },
  {
   "cell_type": "code",
   "execution_count": null,
   "metadata": {},
   "outputs": [],
   "source": [
    "test_text = [\"\"\"\n",
    "I am happy to join with you today in what will go down in history as the greatest demonstration for freedom in the history of our nation.\n",
    "Five score years ago, a great American, in whose symbolic shadow we stand today, signed the Emancipation Proclamation. This momentous decree came as a great beacon light of hope to millions of Negro slaves who had been seared in the flames of withering injustice. It came as a joyous daybreak to end the long night of their captivity.\n",
    "But one hundred years later, the Negro still is not free. One hundred years later, the life of the Negro is still sadly crippled by the manacles of segregation and the chains of discrimination. One hundred years later, the Negro lives on a lonely island of poverty in the midst of a vast ocean of material prosperity. One hundred years later, the Negro is still languishing in the corners of American society and finds himself an exile in his own land. So we have come here today to dramatize a shameful condition.\n",
    "In a sense we have come to our nation’s capital to cash a check. When the architects of our republic wrote the magnificent words of the Constitution and the Declaration of Independence, they were signing a promissory note to which every American was to fall heir. This note was a promise that all men, yes, black men as well as white men, would be guaranteed the unalienable rights of life, liberty, and the pursuit of happiness.\n",
    "It is obvious today that America has defaulted on this promissory note insofar as her citizens of color are concerned. Instead of honoring this sacred obligation, America has given the Negro people a bad check, a check which has come back marked “insufficient funds.” But we refuse to believe that the bank of justice is bankrupt. We refuse to believe that there are insufficient funds in the great vaults of opportunity of this nation. So we have come to cash this check — a check that will give us upon demand the riches of freedom and the security of justice. We have also come to this hallowed spot to remind America of the fierce urgency of now. This is no time to engage in the luxury of cooling off or to take the tranquilizing drug of gradualism. Now is the time to make real the promises of democracy. Now is the time to rise from the dark and desolate valley of segregation to the sunlit path of racial justice. Now is the time to lift our nation from the quick sands of racial injustice to the solid rock of brotherhood. Now is the time to make justice a reality for all of God’s children.\n",
    "It would be fatal for the nation to overlook the urgency of the moment. This sweltering summer of the Negro’s legitimate discontent will not pass until there is an invigorating autumn of freedom and equality. Nineteen sixty-three is not an end, but a beginning. Those who hope that the Negro needed to blow off steam and will now be content will have a rude awakening if the nation returns to business as usual. There will be neither rest nor tranquility in America until the Negro is granted his citizenship rights. The whirlwinds of revolt will continue to shake the foundations of our nation until the bright day of justice emerges.\n",
    "But there is something that I must say to my people who stand on the warm threshold which leads into the palace of justice. In the process of gaining our rightful place we must not be guilty of wrongful deeds. Let us not seek to satisfy our thirst for freedom by drinking from the cup of bitterness and hatred.\n",
    "We must forever conduct our struggle on the high plane of dignity and discipline. We must not allow our creative protest to degenerate into physical violence. Again and again we must rise to the majestic heights of meeting physical force with soul force. The marvelous new militancy which has engulfed the Negro community must not lead us to a distrust of all white people, for many of our white brothers, as evidenced by their presence here today, have come to realize that their destiny is tied up with our destiny. They have come to realize that their freedom is inextricably bound to our freedom. We cannot walk alone.\n",
    "As we walk, we must make the pledge that we shall always march ahead. We cannot turn back. There are those who are asking the devotees of civil rights, “When will you be satisfied?” We can never be satisfied as long as the Negro is the victim of the unspeakable horrors of police brutality. We can never be satisfied, as long as our bodies, heavy with the fatigue of travel, cannot gain lodging in the motels of the highways and the hotels of the cities. We cannot be satisfied as long as the Negro’s basic mobility is from a smaller ghetto to a larger one. We can never be satisfied as long as our children are stripped of their selfhood and robbed of their dignity by signs stating “For Whites Only”. We cannot be satisfied as long as a Negro in Mississippi cannot vote and a Negro in New York believes he has nothing for which to vote. No, no, we are not satisfied, and we will not be satisfied until justice rolls down like waters and righteousness like a mighty stream.\n",
    "I am not unmindful that some of you have come here out of great trials and tribulations. Some of you have come fresh from narrow jail cells. Some of you have come from areas where your quest for freedom left you battered by the storms of persecution and staggered by the winds of police brutality. You have been the veterans of creative suffering. Continue to work with the faith that unearned suffering is redemptive.\n",
    "Go back to Mississippi, go back to Alabama, go back to South Carolina, go back to Georgia, go back to Louisiana, go back to the slums and ghettos of our northern cities, knowing that somehow this situation can and will be changed. Let us not wallow in the valley of despair.\n",
    "I say to you today, my friends, so even though we face the difficulties of today and tomorrow, I still have a dream. It is a dream deeply rooted in the American dream.\n",
    "I have a dream that one day this nation will rise up and live out the true meaning of its creed: “We hold these truths to be self-evident: that all men are created equal.”\n",
    "I have a dream that one day on the red hills of Georgia the sons of former slaves and the sons of former slave owners will be able to sit down together at the table of brotherhood.\n",
    "I have a dream that one day even the state of Mississippi, a state sweltering with the heat of injustice, sweltering with the heat of oppression, will be transformed into an oasis of freedom and justice.\n",
    "I have a dream that my four little children will one day live in a nation where they will not be judged by the color of their skin but by the content of their character.\n",
    "I have a dream today.\n",
    "I have a dream that one day, down in Alabama, with its vicious racists, with its governor having his lips dripping with the words of interposition and nullification; one day right there in Alabama, little black boys and black girls will be able to join hands with little white boys and white girls as sisters and brothers.\n",
    "I have a dream today.\n",
    "I have a dream that one day every valley shall be exalted, every hill and mountain shall be made low, the rough places will be made plain, and the crooked places will be made straight, and the glory of the Lord shall be revealed, and all flesh shall see it together.\n",
    "This is our hope. This is the faith that I go back to the South with. With this faith we will be able to hew out of the mountain of despair a stone of hope. With this faith we will be able to transform the jangling discords of our nation into a beautiful symphony of brotherhood. With this faith we will be able to work together, to pray together, to struggle together, to go to jail together, to stand up for freedom together, knowing that we will be free one day.\n",
    "This will be the day when all of God’s children will be able to sing with a new meaning, “My country, ‘tis of thee, sweet land of liberty, of thee I sing. Land where my fathers died, land of the pilgrim’s pride, from every mountainside, let freedom ring.”\n",
    "And if America is to be a great nation this must become true. So let freedom ring from the prodigious hilltops of New Hampshire. Let freedom ring from the mighty mountains of New York. Let freedom ring from the heightening Alleghenies of Pennsylvania!\n",
    "Let freedom ring from the snowcapped Rockies of Colorado!\n",
    "Let freedom ring from the curvaceous slopes of California!\n",
    "But not only that; let freedom ring from Stone Mountain of Georgia!\n",
    "Let freedom ring from Lookout Mountain of Tennessee!\n",
    "Let freedom ring from every hill and molehill of Mississippi. From every mountainside, let freedom ring.\n",
    "And when this happens, when we allow freedom to ring, when we let it ring from every village and every hamlet, from every state and every city, we will be able to speed up that day when all of God’s children, black men and white men, Jews and Gentiles, Protestants and Catholics, will be able to join hands and sing in the words of the old Negro spiritual, “Free at last! free at last! thank God Almighty, we are free at last!”\n",
    "\"\"\"]"
   ]
  },
  {
   "cell_type": "code",
   "execution_count": null,
   "metadata": {
    "scrolled": true
   },
   "outputs": [],
   "source": [
    "lda_output = best_lda_model.transform(cnt)\n",
    "doc_ids, docs = similar_documents(test_text, lda_output, raw_data, top_n=1, verbose=False, model=best_lda_model)"
   ]
  },
  {
   "cell_type": "code",
   "execution_count": null,
   "metadata": {
    "scrolled": true
   },
   "outputs": [],
   "source": [
    "display_article(docs[0])"
   ]
  },
  {
   "cell_type": "markdown",
   "metadata": {},
   "source": [
    "Predict with European materials."
   ]
  },
  {
   "cell_type": "code",
   "execution_count": null,
   "metadata": {},
   "outputs": [],
   "source": [
    "new_test_text = [\"\"\"\n",
    "Peleus, in Greek mythology, king of the Myrmidons of Thessaly;\n",
    "he was most famous as the husband of Thetis (a sea nymph) and the father of the hero Achilles, whom he outlived.\n",
    "When Peleus and his brother Telamon were banished from their father Aeacus’ kingdom of Aegina,\n",
    "Peleus went to Phthia to be purified by his uncle King Eurytion, whose daughter Antigone he married,\n",
    "receiving a third of Eurytion’s kingdom. During the Calydonian boar hunt he accidentally killed Eurytion.\n",
    "He then went to Iolcos to be purified by King Acastus, whose wife Astydameia made advances to him.\n",
    "When he refused her, she told Antigone that he wanted to marry her daughter, causing Antigone to hang herself.\n",
    "Peleus later won the sea nymph Thetis by capture, and all the gods except Eris (the goddess of discord) were invited to the wedding.\n",
    "The golden apple that Eris spitefully sent to the wedding guests led to the “judgment of Paris” and thence to the Trojan War.\n",
    "Peleus was too old to fight in that conflict and gave his armour to his son Achilles.\n",
    "Thetis, who had returned to the sea after bearing Achilles, eventually fetched Peleus to dwell with her.\n",
    "\"\"\", \"\"\"\n",
    "Phocus, in Greek mythology, the son of Aeacus, king of Aegina, and the Nereid Psamathe, \n",
    "who had assumed the likeness of a seal (Greek: phoce) in trying to escape Aeacus’s embraces. \n",
    "Peleus and Telamon, Aeacus’s legitimate sons, resented Phocus’s superior athletic prowess. \n",
    "The mythography Bibliotheca (1st or 2nd century AD; Library) related that Peleus and Telamon, \n",
    "at the instigation of Endeis, their mother, plotted Phocus’s death, drawing lots to decide which should destroy him. \n",
    "The lot fell on Telamon, who murdered Phocus during a game and then claimed that the death was an accident. \n",
    "Aeacus, however, discovered the truth and banished both his sons.\n",
    "\"\"\", \"\"\"\n",
    "According to some later writers, including the Greek historian Diodorus Siculus and the geographer Pausanias, \n",
    "Peleus was the killer; many other late accounts blame both brothers. \n",
    "Pausanias wrote that Telamon returned to plead his innocence but was sent away by his father. \n",
    "Aeacus’s role in the story may be part of the reason that he became one of the three judges of the underworld, \n",
    "along with Minos and Rhadamanthys.\n",
    "\"\"\"]"
   ]
  },
  {
   "cell_type": "code",
   "execution_count": null,
   "metadata": {},
   "outputs": [],
   "source": [
    "lda_output = best_lda_model.transform(cnt)\n",
    "doc_ids, docs = similar_documents(new_test_text, lda_output, raw_data, top_n=1, verbose=False, model=best_lda_model)\n",
    "len(docs)"
   ]
  },
  {
   "cell_type": "code",
   "execution_count": null,
   "metadata": {
    "scrolled": true
   },
   "outputs": [],
   "source": [
    "display_article(docs[0])"
   ]
  },
  {
   "cell_type": "markdown",
   "metadata": {},
   "source": [
    "Predict with Obama speech."
   ]
  },
  {
   "cell_type": "code",
   "execution_count": null,
   "metadata": {},
   "outputs": [],
   "source": [
    "obama_text = [\"\"\"\n",
    "On behalf of the great state of Illinois, crossroads of a nation, Land of Lincoln,  let me express my deepest gratitude for the privilege of addressing this convention.  Tonight is a particular honor for me because, let’s face it, my presence on this stage is pretty unlikely.  My father was a foreign student, born and raised in a small village in Kenya. He grew up herding goats,  went to school in a tin-roof shack. His father -- my grandfather -- was a cook,  a domestic servant to the British. But my grandfather had larger dreams for his son.  Through hard work and perseverance my father got a scholarship to study in a magical place, America,  that shone as a beacon of freedom and opportunity to so many who had come before. While studying here,  my father met my mother. She was born in a town on the other side of the world, in Kansas.  Her father worked on oil rigs and farms through most of the Depression.  The day after Pearl Harbor my grandfather signed up for duty; joined Patton’s army,  marched across Europe. Back home, my grandmother raised a baby and went to work on a bomber assembly line.  After the war, they studied on the G.I. Bill, bought a house through F.H.A.,  and later moved west all the way to Hawaii in search of opportunity. And they, too, had big dreams for their daughter.  A common dream, born of two continents. My parents shared not only an improbable love,  they shared an abiding faith in the possibilities of this nation. They would give me an African name,  Barack, or ”blessed,” believing that in a tolerant America your name is no barrier to success.  They imagined -- They imagined me going to the best schools in the land, even though they weren’t rich,  because in a generous America you don’t have to be rich to achieve your potential. They're both passed away now.  And yet, I know that on this night they look down on me with great pride. They stand here, and I stand here today,  grateful for the diversity of my heritage, aware that my parents’ dreams live on in my two precious daughters.  I stand here knowing that my story is part of the larger American story, that I owe a debt to all of those who came before me,  and that, in no other country on earth, is my story even possible. Tonight,  we gather to affirm the greatness of our Nation -- not because of the height of our skyscrapers, or the power of our military,  or the size of our economy. Our pride is based on a very simple premise,  summed up in a declaration made over two hundred years ago: We hold these truths to be self-evident,  that all men are created equal, that they are endowed by their Creator with certain inalienable rights,  that among these are Life, Liberty and the pursuit of Happiness. That is the true genius of America,  a faith -- a faith in simple dreams, an insistence on small miracles;  that we can tuck in our children at night and know that they are fed and clothed and safe from harm;  that we can say what we think, write what we think, without hearing a sudden knock on the door;  that we can have an idea and start our own business without paying a bribe;  that we can participate in the political process without fear of retribution,  and that our votes will be counted -- at least most of the time.  This year, in this election we are called to reaffirm our values and our commitments,  to hold them against a hard reality and see how we're measuring up to the legacy of our forbearers and the promise of future generations.  And fellow Americans, Democrats, Republicans, Independents, I say to you tonight:  We have more work to do -- more work to do for the workers I met in Galesburg, Illinois,  who are losing their union jobs at the Maytag plant that’s moving to Mexico,  and now are having to compete with their own children for jobs that pay seven bucks an hour;  more to do for the father that I met who was losing his job and choking back the tears,  wondering how he would pay 4500 dollars a month for the drugs his son needs without the health benefits that he counted on;  more to do for the young woman in East St. Louis, and thousands more like her, who has the grades, has the drive,  has the will, but doesn’t have the money to go to college. Now, don’t get me wrong.  The people I meet -- in small towns and big cities,  in diners and office parks -- they don’t expect government to solve all their problems.  They know they have to work hard to get ahead, and they want to. Go into the collar counties around Chicago,  and people will tell you they don’t want their tax money wasted, by a welfare agency or by the Pentagon.  Go in -- Go into any inner city neighborhood, and folks will tell you that government alone can’t teach our kids to learn;  they know that parents have to teach,  that children can’t achieve unless we raise their expectations and turn off the television sets and  eradicate the slander that says a black youth with a book is acting white. They know those things.  People don’t expect -- People don't expect government to solve all their problems. But they sense,  deep in their bones, that with just a slight change in priorities,  we can make sure that every child in America has a decent shot at life, and that the doors of opportunity remain open to all.  They know we can do better. And they want that choice. In this election, we offer that choice.  Our Party has chosen a man to lead us who embodies the best this country has to offer.  And that man is John Kerry. John Kerry understands the ideals of community, faith,  and service because they’ve defined his life. From his heroic service to Vietnam,  to his years as a prosecutor and lieutenant governor, through two decades in the United States Senate,  he's devoted himself to this country. Again and again, we’ve seen him make tough choices when easier ones were available.  His values and his record affirm what is best in us. John Kerry believes in an America where hard work is rewarded;  so instead of offering tax breaks to companies shipping jobs overseas, he offers them to companies creating jobs here at home.  John Kerry believes in an America where all Americans can afford the same health coverage our politicians in Washington have for themselves. John Kerry believes in energy independence, so we aren’t held hostage to the profits of oil companies,  or the sabotage of foreign oil fields.  John Kerry believes in the Constitutional freedoms that have made our country the envy of the world,  and he will never sacrifice our basic liberties, nor use faith as a wedge to divide us.  And John Kerry believes that in a dangerous world war must be an option sometimes,  but it should never be the first option. You know, a while back -- awhile back I met a young man named Shamus in a V.F.W.  Hall in East Moline, Illinois. He was a good-looking kid -- six two, six three, clear eyed, with an easy smile.  He told me he’d joined the Marines and was heading to Iraq the following week.  And as I listened to him explain why he’d enlisted, the absolute faith he had in our country and its leaders,  his devotion to duty and service, I thought this young man was all that any of us might ever hope for in a child.  But then I asked myself, \"Are we serving Shamus as well as he is serving us?\" I thought of the 900 men and women -- sons and daughters,  husbands and wives, friends and neighbors, who won’t be returning to their own hometowns.  I thought of the families I’ve met who were struggling to get by without a loved one’s full income,  or whose loved ones had returned with a limb missing or nerves shattered,  but still lacked long-term health benefits because they were Reservists.  When we send our young men and women into harm’s way,  we have a solemn obligation not to fudge the numbers or shade the truth about why they’re going,  to care for their families while they’re gone, to tend to the soldiers upon their return,  and to never ever go to war without enough troops to win the war, secure the peace,  and earn the respect of the world. Now -- Now let me be clear. Let me be clear.  We have real enemies in the world. These enemies must be found. They must be pursued.  And they must be defeated. John Kerry knows this.  And just as Lieutenant Kerry did not hesitate to risk his life to protect the men who served with him in Vietnam,  President Kerry will not hesitate one moment to use our military might to keep America safe and secure.  John Kerry believes in America.  And he knows that it’s not enough for just some of us to prosper -- for alongside our famous individualism,  there’s another ingredient in the American saga, a belief that we’re all connected as one people.  If there is a child on the south side of Chicago who can’t read, that matters to me,  even if it’s not my child. If there is a senior citizen somewhere who can’t pay for their prescription drugs,  and having to choose between medicine and the rent, that makes my life poorer, even if it’s not my grandparent.  If there’s an Arab American family being rounded up without benefit of an attorney or due process,  that threatens my civil liberties. It is that fundamental belief -- It is that fundamental belief:  I am my brother’s keeper. I am my sister’s keeper that makes this country work.  It’s what allows us to pursue our individual dreams and yet still come together as one American family.  E pluribus unum: \"Out of many, one.\" Now even as we speak,  there are those who are preparing to divide us -- the spin masters,  the negative ad peddlers who embrace the politics of \"anything goes.\"  Well, I say to them tonight, there is not a liberal America and a conservative America -- there is the United States of America.  There is not a Black America and a White America and Latino America and Asian America -- there’s the United States of America.  The pundits, the pundits like to slice-and-dice our country into red states and blue states; red states for Republicans,  blue states for Democrats. But I’ve got news for them, too. We worship an awesome God in the blue states,  and we don’t like federal agents poking around in our libraries in the red states. We coach Little League in the blue states and yes,  we’ve got some gay friends in the red states.  There are patriots who opposed the war in Iraq and there are patriots who supported the war in Iraq.  We are one people, all of us pledging allegiance to the stars and stripes, all of us defending the United States of America.  In the end -- In the end -- In the end, that’s what this election is about.  Do we participate in a politics of cynicism or do we participate in a politics of hope?  John Kerry calls on us to hope. John Edwards calls on us to hope. I’m not talking about blind optimism here --  the almost willful ignorance that thinks unemployment will go away if we just don’t think about it,  or the health care crisis will solve itself if we just ignore it. That’s not what I’m talking about.  I’m talking about something more substantial. It’s the hope of slaves sitting around a fire singing freedom songs;  the hope of immigrants setting out for distant shores; the hope of a young naval lieutenant bravely patrolling the Mekong Delta;  the hope of a millworker’s son who dares to defy the odds;  the hope of a skinny kid with a funny name who believes that America has a place for him, too.  Hope -- Hope in the face of difficulty. Hope in the face of uncertainty. The audacity of hope!  In the end, that is God’s greatest gift to us, the bedrock of this nation. A belief in things not seen.  A belief that there are better days ahead.  I believe that we can give our middle class relief and provide working families with a road to opportunity.  I believe we can provide jobs to the jobless, homes to the homeless,  and reclaim young people in cities across America from violence and despair.  I believe that we have a righteous wind at our backs and that as we stand on the crossroads of history,  we can make the right choices, and meet the challenges that face us. America! Tonight,  if you feel the same energy that I do, if you feel the same urgency that I do,  if you feel the same passion that I do, if you feel the same hopefulness that I do -- if we do what we must do,  then I have no doubt that all across the country, from Florida to Oregon, from Washington to Maine,  the people will rise up in November, and John Kerry will be sworn in as President,  and John Edwards will be sworn in as Vice President, and this country will reclaim its promise,  and out of this long political darkness a brighter day will come. Thank you very much everybody.  God bless you. Thank you.\n",
    "\"\"\"]"
   ]
  },
  {
   "cell_type": "code",
   "execution_count": null,
   "metadata": {},
   "outputs": [],
   "source": [
    "lda_output = best_lda_model.transform(cnt)\n",
    "doc_ids, docs = similar_documents(obama_text, lda_output, raw_data, top_n=5, verbose=False, model=best_lda_model)\n",
    "len(docs)"
   ]
  },
  {
   "cell_type": "code",
   "execution_count": null,
   "metadata": {
    "scrolled": true
   },
   "outputs": [],
   "source": [
    "display_article(docs[0])"
   ]
  },
  {
   "cell_type": "code",
   "execution_count": null,
   "metadata": {},
   "outputs": [],
   "source": [
    "tfidf_vect = TfidfVectorizer(ngram_range=(1,1), stop_words=\"english\")\n",
    "tfidf = tfidf_vect.fit_transform(clean_data)\n",
    "tfidf_feature_names = tfidf_vect.get_feature_names()"
   ]
  },
  {
   "cell_type": "code",
   "execution_count": null,
   "metadata": {},
   "outputs": [],
   "source": [
    "nmf = NMF(n_components=no_topics, random_state=1, alpha=.1, l1_ratio=.5, init='nndsvd')\n",
    "nmf_model = nmf.fit(tfidf)"
   ]
  },
  {
   "cell_type": "code",
   "execution_count": null,
   "metadata": {
    "scrolled": false
   },
   "outputs": [],
   "source": [
    "nmf_topics = display_topics(nmf_model, tfidf_feature_names, no_top_words)\n",
    "pd.DataFrame(nmf_topics)"
   ]
  },
  {
   "cell_type": "code",
   "execution_count": null,
   "metadata": {
    "scrolled": true
   },
   "outputs": [],
   "source": [
    "eval_model(nmf_model, tfidf, use_simple=1)"
   ]
  }
 ],
 "metadata": {
  "kernelspec": {
   "display_name": "wikipedia_extract",
   "language": "python",
   "name": "wikipedia_extract"
  },
  "language_info": {
   "codemirror_mode": {
    "name": "ipython",
    "version": 3
   },
   "file_extension": ".py",
   "mimetype": "text/x-python",
   "name": "python",
   "nbconvert_exporter": "python",
   "pygments_lexer": "ipython3",
   "version": "3.6.7"
  }
 },
 "nbformat": 4,
 "nbformat_minor": 2
}
