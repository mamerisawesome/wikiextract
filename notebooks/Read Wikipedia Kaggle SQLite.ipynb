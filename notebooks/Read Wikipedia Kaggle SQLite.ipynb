{
 "cells": [
  {
   "cell_type": "markdown",
   "metadata": {},
   "source": [
    "# Wikipedia Kaggle Data Peak"
   ]
  },
  {
   "cell_type": "markdown",
   "metadata": {},
   "source": [
    "Read dataset given by Kaggle of Wikipedia articles."
   ]
  },
  {
   "cell_type": "code",
   "execution_count": 1,
   "metadata": {},
   "outputs": [],
   "source": [
    "import sqlite3\n",
    "conn = sqlite3.connect('/home/mamerisawesome/Documents/wiki-kaggle-17_18.db')\n",
    "crsr = conn.cursor()"
   ]
  },
  {
   "cell_type": "markdown",
   "metadata": {},
   "source": [
    "Peak into the tables."
   ]
  },
  {
   "cell_type": "code",
   "execution_count": 41,
   "metadata": {},
   "outputs": [
    {
     "data": {
      "text/plain": [
       "[{'column': 'ARTICLE_ID', 'type': 'INTEGER'},\n",
       " {'column': 'TITLE', 'type': 'TEXT'},\n",
       " {'column': 'SECTION_TITLE', 'type': 'TEXT'},\n",
       " {'column': 'SECTION_TEXT', 'type': 'TEXT'}]"
      ]
     },
     "execution_count": 41,
     "metadata": {},
     "output_type": "execute_result"
    }
   ],
   "source": [
    "crsr.execute(\"SELECT name FROM sqlite_master WHERE type='table';\")\n",
    "crsr.fetchall()\n",
    "\n",
    "crsr.execute(\"SELECT * FROM sqlite_master WHERE type='table';\")\n",
    "res = crsr.fetchall()[0][4].split('CREATE TABLE ARTICLES (')\n",
    "res = ''.join(res).split(')')\n",
    "res = ''.join(res)\n",
    "columns = res.split(', ')\n",
    "\n",
    "res = []\n",
    "for col in columns:\n",
    "    col_split = col.split(' ')\n",
    "    res += [{ \"column\": col_split[0], \"type\": col_split[1] }]\n",
    "res"
   ]
  },
  {
   "cell_type": "code",
   "execution_count": 43,
   "metadata": {},
   "outputs": [],
   "source": [
    "crsr.execute(\"SELECT ARTICLE_ID, TITLE FROM ARTICLES GROUP BY ARTICLE_ID ORDER BY ARTICLE_ID\")\n",
    "titles = crsr.fetchall()"
   ]
  },
  {
   "cell_type": "code",
   "execution_count": 57,
   "metadata": {},
   "outputs": [],
   "source": [
    "try:\n",
    "    titles = [{ datum[0]: datum[1] } for datum in titles]\n",
    "except KeyError:\n",
    "    pass"
   ]
  },
  {
   "cell_type": "code",
   "execution_count": 58,
   "metadata": {},
   "outputs": [
    {
     "data": {
      "text/plain": [
       "<generator object <genexpr> at 0x7f6349662780>"
      ]
     },
     "execution_count": 58,
     "metadata": {},
     "output_type": "execute_result"
    }
   ],
   "source": [
    "titles"
   ]
  }
 ],
 "metadata": {
  "kernelspec": {
   "display_name": "wikipedia_extract",
   "language": "python",
   "name": "wikipedia_extract"
  },
  "language_info": {
   "codemirror_mode": {
    "name": "ipython",
    "version": 3
   },
   "file_extension": ".py",
   "mimetype": "text/x-python",
   "name": "python",
   "nbconvert_exporter": "python",
   "pygments_lexer": "ipython3",
   "version": "3.6.7"
  }
 },
 "nbformat": 4,
 "nbformat_minor": 2
}
